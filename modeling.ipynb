{
 "cells": [
  {
   "cell_type": "code",
   "execution_count": null,
   "id": "e386deac",
   "metadata": {},
   "outputs": [],
   "source": [
    "# Dependencies and Setup\n",
    "%matplotlib inline\n",
    "import matplotlib.pyplot as plt\n",
    "import pandas as pd\n",
    "import config\n",
    "from sklearn.model_selection import train_test_split\n",
    "from sklearn.preprocessing import StandardScaler\n",
    "from sklearn import preprocessing\n",
    "from sklearn.linear_model import LinearRegression, Ridge, Lasso, ElasticNet\n",
    "from sklearn.neighbors import KNeighborsRegressor\n",
    "from sklearn.ensemble import RandomForestRegressor, ExtraTreesRegressor, AdaBoostRegressor\n",
    "from sklearn.svm import SVR\n",
    "from sklearn.model_selection import RandomizedSearchCV, GridSearchCV\n",
    "from sqlalchemy import create_engine\n",
    "from sqlalchemy import inspect\n",
    "import numpy as np\n",
    "\n",
    "label_encoder = preprocessing.LabelEncoder()"
   ]
  },
  {
   "cell_type": "code",
   "execution_count": null,
   "id": "3771ad1f",
   "metadata": {},
   "outputs": [],
   "source": [
    "#Connecting to RDS database using config for all personal data\n",
    "\n",
    "rds_connection_string = f'{config.connection_string}'\n",
    "engine = create_engine(rds_connection_string)\n",
    "insp = inspect(engine)"
   ]
  },
  {
   "cell_type": "code",
   "execution_count": null,
   "id": "4b643321",
   "metadata": {},
   "outputs": [],
   "source": [
    "#Checking if Rental data has been loaded into the database\n",
    "df = pd.read_sql_query('select * from rental_info where bathroom<=bhk+1', con=engine)\n",
    "df.head()"
   ]
  },
  {
   "cell_type": "code",
   "execution_count": null,
   "id": "3f91e774",
   "metadata": {},
   "outputs": [],
   "source": [
    "# create funcion to process different models and data\n",
    "\n",
    "def test_model(model, data):\n",
    "    X_train_scaled, X_test_scaled, y_train, y_test = data\n",
    "    reg = model.fit(X_train_scaled, y_train)\n",
    "    print(f'Model: {type(reg).__name__}')\n",
    "    print(f'Train score: {reg.score(X_train_scaled, y_train)}')\n",
    "    print(f'Test Score: {reg.score(X_test_scaled, y_test)}\\n')\n",
    "    plt.show()    "
   ]
  },
  {
   "cell_type": "code",
   "execution_count": null,
   "id": "c9956ff7",
   "metadata": {},
   "outputs": [],
   "source": [
    "# Define the X (features) and y (target) sets\n",
    "\n",
    "X = df.drop(['rent','suburb','floor_level', 'id'], axis=1)\n",
    "y = df.rent"
   ]
  },
  {
   "cell_type": "code",
   "execution_count": null,
   "id": "0d59555e",
   "metadata": {},
   "outputs": [],
   "source": [
    "# Encode labels in object columns \n",
    "\n",
    "X['posted_on']= label_encoder.fit_transform(X['posted_on'])\n",
    "posted_on_name_mapping = dict(zip(label_encoder.classes_, label_encoder.transform(label_encoder.classes_)))\n",
    "\n",
    "X['area_type']= label_encoder.fit_transform(X['area_type'])\n",
    "area_type_name_mapping = dict(zip(label_encoder.classes_, label_encoder.transform(label_encoder.classes_)))\n",
    "\n",
    "X['city']= label_encoder.fit_transform(X['city'])\n",
    "city_name_mapping = dict(zip(label_encoder.classes_, label_encoder.transform(label_encoder.classes_)))\n",
    "\n",
    "X['furnishing_status']= label_encoder.fit_transform(X['furnishing_status'])\n",
    "furnishing_status_name_mapping = dict(zip(label_encoder.classes_, label_encoder.transform(label_encoder.classes_)))\n",
    "\n",
    "X['tenant_preferred']= label_encoder.fit_transform(X['tenant_preferred'])\n",
    "tenant_preferred_name_mapping = dict(zip(label_encoder.classes_, label_encoder.transform(label_encoder.classes_)))\n",
    "\n",
    "X['point_of_contact']= label_encoder.fit_transform(X['point_of_contact'])\n",
    "point_of_contact_name_mapping = dict(zip(label_encoder.classes_, label_encoder.transform(label_encoder.classes_)))"
   ]
  },
  {
   "cell_type": "code",
   "execution_count": null,
   "id": "2c2f3d1a",
   "metadata": {},
   "outputs": [],
   "source": [
    "# Display X\n",
    "X.head()"
   ]
  },
  {
   "cell_type": "code",
   "execution_count": null,
   "id": "3ca1c282",
   "metadata": {},
   "outputs": [],
   "source": [
    "# Split data into test and training\n",
    "X_train, X_test, y_train, y_test = train_test_split(X, y, random_state=1)\n",
    "\n",
    "# Using standard scaler we scale and fit to the X_train\n",
    "scaler = StandardScaler().fit(X_train)\n",
    "\n",
    "# using scaler create \n",
    "X_train_scaled = scaler.transform(X_train)\n",
    "X_test_scaled = scaler.transform(X_test)\n",
    "\n",
    "# created varaible 'data' to hold x and y training and testing data\n",
    "data = [X_train_scaled, X_test_scaled, y_train, y_test]"
   ]
  },
  {
   "cell_type": "code",
   "execution_count": null,
   "id": "28287913",
   "metadata": {},
   "outputs": [],
   "source": [
    "#Display shape\n",
    "\n",
    "X_train.shape, X_test.shape"
   ]
  },
  {
   "cell_type": "code",
   "execution_count": null,
   "id": "881daf4e",
   "metadata": {},
   "outputs": [],
   "source": [
    "# Display X_train_scaled array\n",
    "\n",
    "X_train_scaled"
   ]
  },
  {
   "cell_type": "code",
   "execution_count": null,
   "id": "1fb4c355",
   "metadata": {},
   "outputs": [],
   "source": [
    "# Run several models through the test_model function for a quick analysis\n",
    "\n",
    "test_model(LinearRegression(), data)\n",
    "test_model(KNeighborsRegressor(), data)\n",
    "test_model(RandomForestRegressor(), data)\n",
    "test_model(ExtraTreesRegressor(), data)\n",
    "test_model(AdaBoostRegressor(), data)\n",
    "test_model(SVR(C=1.0, epsilon=0.2), data)"
   ]
  },
  {
   "cell_type": "markdown",
   "id": "34fa0e52",
   "metadata": {},
   "source": [
    "From the results above RandomForestRegressor, AdaBoostRegressor and ExtraTresregessor have good training scores. Upon reviewing the test scores for each it appears that ExtraTreesRegressor is overfitting to the training data which is resulting in a testing score of -0.047. We will continue forward with RandomForestRegressor and AdaBoostRegressor hyperparameter tuning."
   ]
  },
  {
   "cell_type": "markdown",
   "id": "832cab8d",
   "metadata": {},
   "source": [
    "### RandomForestRegressor hyperparameter tuning"
   ]
  },
  {
   "cell_type": "code",
   "execution_count": null,
   "id": "d880d3ca",
   "metadata": {},
   "outputs": [],
   "source": [
    "# Number of trees in random forest\n",
    "n_estimators = [int(x) for x in np.linspace(start = 10, stop = 300, num = 10)]\n",
    "\n",
    "# Number of features to consider at every split\n",
    "max_features = ['auto', 'sqrt']\n",
    "\n",
    "# Maximum number of levels in tree\n",
    "max_depth = [10,20,30,40,50]\n",
    "\n",
    "# Minimum number of samples required to split a node\n",
    "min_samples_split = [2, 5]\n",
    "\n",
    "# Minimum number of samples required at each leaf node\n",
    "min_samples_leaf = [1, 2, 3, 4, 5]\n",
    "\n",
    "# Method of selecting samples for training each tree\n",
    "bootstrap = [True, False]"
   ]
  },
  {
   "cell_type": "code",
   "execution_count": null,
   "id": "73faea40",
   "metadata": {},
   "outputs": [],
   "source": [
    "# Create the param grid\n",
    "param_grid = {'n_estimators': n_estimators,\n",
    "               'max_features': max_features,\n",
    "               'max_depth': max_depth,\n",
    "               'min_samples_split': min_samples_split,\n",
    "               'min_samples_leaf': min_samples_leaf,\n",
    "               'bootstrap': bootstrap}\n",
    "print(param_grid)"
   ]
  },
  {
   "cell_type": "code",
   "execution_count": null,
   "id": "ad30122a",
   "metadata": {},
   "outputs": [],
   "source": [
    "# Import the model\n",
    "model = RandomForestRegressor()"
   ]
  },
  {
   "cell_type": "code",
   "execution_count": null,
   "id": "c9e3ae12",
   "metadata": {},
   "outputs": [],
   "source": [
    "rf_RandomGrid = RandomizedSearchCV(estimator = model, param_distributions = param_grid, cv = 10, verbose=2, n_jobs = 4, random_state=30)"
   ]
  },
  {
   "cell_type": "code",
   "execution_count": null,
   "id": "de1ae266",
   "metadata": {},
   "outputs": [],
   "source": [
    "# Fit the model by using the Randomized search classifier.\n",
    "rf_RandomGrid.fit(X_train_scaled, y_train)"
   ]
  },
  {
   "cell_type": "code",
   "execution_count": null,
   "id": "d574f8a8",
   "metadata": {},
   "outputs": [],
   "source": [
    "# Display the params with the best results\n",
    "print(rf_RandomGrid.best_params_)"
   ]
  },
  {
   "cell_type": "code",
   "execution_count": null,
   "id": "406df898",
   "metadata": {},
   "outputs": [],
   "source": [
    "# Print accuracy scores\n",
    "print (f'Train Accuracy - : {rf_RandomGrid.score(X_train_scaled,y_train):.3f}')\n",
    "print (f'Test Accuracy - : {rf_RandomGrid.score(X_test_scaled,y_test):.3f}')"
   ]
  },
  {
   "cell_type": "markdown",
   "id": "d010f1d3",
   "metadata": {},
   "source": [
    "### AdaBoostRegressor hyperparameter tuning"
   ]
  },
  {
   "cell_type": "code",
   "execution_count": null,
   "id": "a7c6bc84",
   "metadata": {},
   "outputs": [],
   "source": [
    "# Create the params\n",
    "params = {\n",
    "    'n_estimators': [2, 3, 4, 5, 6, 7, 8, 9, 10, 11, 12, 20],\n",
    "    'learning_rate': [(0.97 + x / 100) for x in range(0, 8)]\n",
    "}"
   ]
  },
  {
   "cell_type": "code",
   "execution_count": null,
   "id": "1ce22063",
   "metadata": {},
   "outputs": [],
   "source": [
    "# Import the model\n",
    "ab_clf = AdaBoostRegressor(random_state=42)"
   ]
  },
  {
   "cell_type": "code",
   "execution_count": null,
   "id": "c90f5636",
   "metadata": {},
   "outputs": [],
   "source": [
    "clf = GridSearchCV(ab_clf, params, cv = 10, verbose=2, n_jobs = 4)"
   ]
  },
  {
   "cell_type": "code",
   "execution_count": null,
   "id": "6b15f3f4",
   "metadata": {},
   "outputs": [],
   "source": [
    "# Fit the model by using the Randomized search classifier.\n",
    "clf.fit(X_train_scaled, y_train)"
   ]
  },
  {
   "cell_type": "code",
   "execution_count": null,
   "id": "df7f7765",
   "metadata": {},
   "outputs": [],
   "source": [
    "# Display the params with the best results\n",
    "print(clf.best_params_)"
   ]
  },
  {
   "cell_type": "code",
   "execution_count": null,
   "id": "7807767a",
   "metadata": {},
   "outputs": [],
   "source": [
    "# Print accuracy scores\n",
    "print (f'Train Accuracy - : {clf.score(X_train_scaled,y_train):.3f}')\n",
    "print (f'Test Accuracy - : {clf.score(X_test_scaled,y_test):.3f}')"
   ]
  },
  {
   "cell_type": "markdown",
   "id": "860f203d",
   "metadata": {},
   "source": [
    "## Modelling with best params\n",
    "<hr>"
   ]
  },
  {
   "cell_type": "markdown",
   "id": "763337b2",
   "metadata": {},
   "source": [
    "### RandomForestRegressor\n",
    "<hr>"
   ]
  },
  {
   "cell_type": "code",
   "execution_count": null,
   "id": "3a0448fd",
   "metadata": {},
   "outputs": [],
   "source": [
    "# Import the model\n",
    "rf_model = RandomForestRegressor(n_estimators= 42, min_samples_split= 2, min_samples_leaf= 3, max_features= 'sqrt', max_depth= 50, bootstrap= True)"
   ]
  },
  {
   "cell_type": "code",
   "execution_count": null,
   "id": "a3421a81",
   "metadata": {},
   "outputs": [],
   "source": [
    "# Fit the model to the training data\n",
    "rf_model.fit(X_train_scaled, y_train)"
   ]
  },
  {
   "cell_type": "code",
   "execution_count": null,
   "id": "4b562208",
   "metadata": {},
   "outputs": [],
   "source": [
    "# Display the model score using the testing data\n",
    "print (f'Test Accuracy - : {rf_model.score(X_test_scaled,y_test):.3f}')"
   ]
  },
  {
   "cell_type": "markdown",
   "id": "7e133f16",
   "metadata": {},
   "source": [
    "### AdaBoostRegressor\n",
    "<hr>"
   ]
  },
  {
   "cell_type": "code",
   "execution_count": null,
   "id": "7e192d2d",
   "metadata": {},
   "outputs": [],
   "source": [
    "ada_model = AdaBoostRegressor(learning_rate=1.01, n_estimators=3, random_state=42)"
   ]
  },
  {
   "cell_type": "code",
   "execution_count": null,
   "id": "93e9087b",
   "metadata": {},
   "outputs": [],
   "source": [
    "# Fit the model to the training data\n",
    "ada_model.fit(X_train_scaled, y_train)"
   ]
  },
  {
   "cell_type": "code",
   "execution_count": null,
   "id": "403bbb43",
   "metadata": {},
   "outputs": [],
   "source": [
    "# Display the model score using the testing data\n",
    "print (f'Test Accuracy - : {ada_model.score(X_test_scaled,y_test):.3f}')"
   ]
  },
  {
   "cell_type": "markdown",
   "id": "c2368499",
   "metadata": {},
   "source": [
    "## Final observations\n",
    "While both RandomForestRegressor and AdaBoostRegressor models have good training figures, the RandomForestRegressor model has a higher testing accuracy score. While this may not be a strong/high accuracy, 0.71 accuracy is sufficeint for our case study. "
   ]
  },
  {
   "cell_type": "markdown",
   "id": "d706d367",
   "metadata": {},
   "source": [
    "## Saving Model and Scaler"
   ]
  },
  {
   "cell_type": "code",
   "execution_count": null,
   "id": "659ace30",
   "metadata": {},
   "outputs": [],
   "source": [
    "import joblib"
   ]
  },
  {
   "cell_type": "code",
   "execution_count": null,
   "id": "a7fff093",
   "metadata": {
    "scrolled": true
   },
   "outputs": [],
   "source": [
    "# Save the model to a file\n",
    "\n",
    "joblib.dump(rf_model, 'model/rental_trained.joblib')\n",
    "joblib.dump(scaler, 'model/rental_scaler.joblib')\n",
    "\n",
    "# Save the encoder mapping for use in the .py file\n",
    "\n",
    "joblib.dump(posted_on_name_mapping, 'model/posted_on_name_mapping.joblib')\n",
    "joblib.dump(area_type_name_mapping, 'model/area_type_name_mapping.joblib')\n",
    "joblib.dump(city_name_mapping, 'model/city_name_mapping.joblib')\n",
    "joblib.dump(furnishing_status_name_mapping, 'model/furnishing_status_name_mapping.joblib')\n",
    "joblib.dump(tenant_preferred_name_mapping, 'model/tenant_preferred_name_mapping.joblib')\n",
    "joblib.dump(point_of_contact_name_mapping, 'model/point_of_contact_name_mapping.joblib')"
   ]
  },
  {
   "cell_type": "markdown",
   "id": "46e85a30",
   "metadata": {},
   "source": [
    "## Check Model Export is working"
   ]
  },
  {
   "cell_type": "code",
   "execution_count": null,
   "id": "f6202b58",
   "metadata": {},
   "outputs": [],
   "source": [
    "# Load the model from a file\n",
    "model = joblib.load('model/rental_trained.joblib')"
   ]
  },
  {
   "cell_type": "code",
   "execution_count": null,
   "id": "65540fea",
   "metadata": {},
   "outputs": [],
   "source": [
    "# Display the model score using the testing data\n",
    "print (f'Test Accuracy - : {model.score(X_test_scaled,y_test):.3f}')"
   ]
  },
  {
   "cell_type": "markdown",
   "id": "317046e7",
   "metadata": {},
   "source": [
    "## Making a prediction with the model"
   ]
  },
  {
   "cell_type": "code",
   "execution_count": null,
   "id": "65d88ee9",
   "metadata": {},
   "outputs": [],
   "source": [
    "# Grab just one data point to test with\n",
    "\n",
    "test = X_train[:1]\n",
    "test_result = y_train[:1]"
   ]
  },
  {
   "cell_type": "code",
   "execution_count": null,
   "id": "dc19691b",
   "metadata": {},
   "outputs": [],
   "source": [
    "# Display test data\n",
    "\n",
    "print(f\"Test data: {test.iloc[0].to_numpy()}, Rental based on test data: {int(test_result)}\")"
   ]
  },
  {
   "cell_type": "code",
   "execution_count": null,
   "id": "3249b5ae",
   "metadata": {},
   "outputs": [],
   "source": [
    "# Scale data for predictions\n",
    "\n",
    "test_scaled = scaler.transform(test)\n",
    "test_scaled"
   ]
  },
  {
   "cell_type": "code",
   "execution_count": null,
   "id": "3f7dff77",
   "metadata": {},
   "outputs": [],
   "source": [
    "# Predict and display prediction\n",
    "\n",
    "prediction = model.predict(test_scaled).round(2)\n",
    "print(float(prediction))"
   ]
  },
  {
   "cell_type": "code",
   "execution_count": null,
   "id": "165e3916",
   "metadata": {},
   "outputs": [],
   "source": [
    "# Compare prediction vs actual\n",
    "\n",
    "print(f\"The pridicted rental, for the test property, is {float(prediction)} and the actual rental is {float(test_result)}\")\n",
    "print(f\"Which is a difference of {float((test_result-prediction).round(2))}.\")"
   ]
  },
  {
   "cell_type": "code",
   "execution_count": null,
   "id": "2182e631",
   "metadata": {},
   "outputs": [],
   "source": []
  }
 ],
 "metadata": {
  "kernelspec": {
   "display_name": "Python 3 (ipykernel)",
   "language": "python",
   "name": "python3"
  },
  "language_info": {
   "codemirror_mode": {
    "name": "ipython",
    "version": 3
   },
   "file_extension": ".py",
   "mimetype": "text/x-python",
   "name": "python",
   "nbconvert_exporter": "python",
   "pygments_lexer": "ipython3",
   "version": "3.9.12"
  }
 },
 "nbformat": 4,
 "nbformat_minor": 5
}
