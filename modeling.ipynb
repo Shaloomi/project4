{
 "cells": [
  {
   "cell_type": "code",
   "execution_count": 1,
   "id": "e386deac",
   "metadata": {},
   "outputs": [],
   "source": [
    "# Dependencies and Setup\n",
    "%matplotlib inline\n",
    "import matplotlib.pyplot as plt\n",
    "import pandas as pd\n",
    "import config\n",
    "from sklearn.model_selection import train_test_split\n",
    "from sklearn.preprocessing import StandardScaler\n",
    "from sklearn import preprocessing\n",
    "from sklearn.linear_model import LinearRegression, Ridge, Lasso, ElasticNet\n",
    "from sklearn.neighbors import KNeighborsRegressor\n",
    "from sklearn.ensemble import RandomForestRegressor, ExtraTreesRegressor, AdaBoostRegressor\n",
    "from sklearn.svm import SVR\n",
    "from sklearn.model_selection import RandomizedSearchCV, GridSearchCV\n",
    "from sqlalchemy import create_engine\n",
    "from sqlalchemy import inspect\n",
    "import numpy as np\n",
    "\n",
    "label_encoder = preprocessing.LabelEncoder()"
   ]
  },
  {
   "cell_type": "code",
   "execution_count": 2,
   "id": "3771ad1f",
   "metadata": {},
   "outputs": [],
   "source": [
    "#Connecting to RDS database using config for all personal data\n",
    "\n",
    "rds_connection_string = f'{config.connection_string}'\n",
    "engine = create_engine(rds_connection_string)\n",
    "insp = inspect(engine)"
   ]
  },
  {
   "cell_type": "code",
   "execution_count": 3,
   "id": "4b643321",
   "metadata": {},
   "outputs": [
    {
     "data": {
      "text/html": [
       "<div>\n",
       "<style scoped>\n",
       "    .dataframe tbody tr th:only-of-type {\n",
       "        vertical-align: middle;\n",
       "    }\n",
       "\n",
       "    .dataframe tbody tr th {\n",
       "        vertical-align: top;\n",
       "    }\n",
       "\n",
       "    .dataframe thead th {\n",
       "        text-align: right;\n",
       "    }\n",
       "</style>\n",
       "<table border=\"1\" class=\"dataframe\">\n",
       "  <thead>\n",
       "    <tr style=\"text-align: right;\">\n",
       "      <th></th>\n",
       "      <th>id</th>\n",
       "      <th>posted_on</th>\n",
       "      <th>bhk</th>\n",
       "      <th>rent</th>\n",
       "      <th>size</th>\n",
       "      <th>floor_level</th>\n",
       "      <th>area_type</th>\n",
       "      <th>suburb</th>\n",
       "      <th>city</th>\n",
       "      <th>furnishing_status</th>\n",
       "      <th>tenant_preferred</th>\n",
       "      <th>bathroom</th>\n",
       "      <th>point_of_contact</th>\n",
       "    </tr>\n",
       "  </thead>\n",
       "  <tbody>\n",
       "    <tr>\n",
       "      <th>0</th>\n",
       "      <td>1</td>\n",
       "      <td>May</td>\n",
       "      <td>2</td>\n",
       "      <td>10000</td>\n",
       "      <td>1100</td>\n",
       "      <td>Ground</td>\n",
       "      <td>Super Area</td>\n",
       "      <td>Bandel</td>\n",
       "      <td>Kolkata</td>\n",
       "      <td>Unfurnished</td>\n",
       "      <td>Bachelors/Family</td>\n",
       "      <td>2</td>\n",
       "      <td>Contact Owner</td>\n",
       "    </tr>\n",
       "    <tr>\n",
       "      <th>1</th>\n",
       "      <td>2</td>\n",
       "      <td>May</td>\n",
       "      <td>2</td>\n",
       "      <td>20000</td>\n",
       "      <td>800</td>\n",
       "      <td>1</td>\n",
       "      <td>Super Area</td>\n",
       "      <td>Kankurgachi</td>\n",
       "      <td>Kolkata</td>\n",
       "      <td>Semi-Furnished</td>\n",
       "      <td>Bachelors/Family</td>\n",
       "      <td>1</td>\n",
       "      <td>Contact Owner</td>\n",
       "    </tr>\n",
       "    <tr>\n",
       "      <th>2</th>\n",
       "      <td>3</td>\n",
       "      <td>May</td>\n",
       "      <td>2</td>\n",
       "      <td>17000</td>\n",
       "      <td>1000</td>\n",
       "      <td>1</td>\n",
       "      <td>Super Area</td>\n",
       "      <td>Sector II</td>\n",
       "      <td>Kolkata</td>\n",
       "      <td>Semi-Furnished</td>\n",
       "      <td>Bachelors/Family</td>\n",
       "      <td>1</td>\n",
       "      <td>Contact Owner</td>\n",
       "    </tr>\n",
       "    <tr>\n",
       "      <th>3</th>\n",
       "      <td>4</td>\n",
       "      <td>July</td>\n",
       "      <td>2</td>\n",
       "      <td>10000</td>\n",
       "      <td>800</td>\n",
       "      <td>1</td>\n",
       "      <td>Super Area</td>\n",
       "      <td>Dum Dum Park</td>\n",
       "      <td>Kolkata</td>\n",
       "      <td>Unfurnished</td>\n",
       "      <td>Bachelors/Family</td>\n",
       "      <td>1</td>\n",
       "      <td>Contact Owner</td>\n",
       "    </tr>\n",
       "    <tr>\n",
       "      <th>4</th>\n",
       "      <td>5</td>\n",
       "      <td>April</td>\n",
       "      <td>2</td>\n",
       "      <td>7000</td>\n",
       "      <td>600</td>\n",
       "      <td>Ground</td>\n",
       "      <td>Super Area</td>\n",
       "      <td>Thakurpukur</td>\n",
       "      <td>Kolkata</td>\n",
       "      <td>Unfurnished</td>\n",
       "      <td>Bachelors/Family</td>\n",
       "      <td>2</td>\n",
       "      <td>Contact Owner</td>\n",
       "    </tr>\n",
       "  </tbody>\n",
       "</table>\n",
       "</div>"
      ],
      "text/plain": [
       "   id posted_on  bhk   rent  size floor_level   area_type        suburb  \\\n",
       "0   1       May    2  10000  1100      Ground  Super Area        Bandel   \n",
       "1   2       May    2  20000   800           1  Super Area   Kankurgachi   \n",
       "2   3       May    2  17000  1000           1  Super Area     Sector II   \n",
       "3   4      July    2  10000   800           1  Super Area  Dum Dum Park   \n",
       "4   5     April    2   7000   600      Ground  Super Area   Thakurpukur   \n",
       "\n",
       "      city furnishing_status  tenant_preferred  bathroom point_of_contact  \n",
       "0  Kolkata       Unfurnished  Bachelors/Family         2    Contact Owner  \n",
       "1  Kolkata    Semi-Furnished  Bachelors/Family         1    Contact Owner  \n",
       "2  Kolkata    Semi-Furnished  Bachelors/Family         1    Contact Owner  \n",
       "3  Kolkata       Unfurnished  Bachelors/Family         1    Contact Owner  \n",
       "4  Kolkata       Unfurnished  Bachelors/Family         2    Contact Owner  "
      ]
     },
     "execution_count": 3,
     "metadata": {},
     "output_type": "execute_result"
    }
   ],
   "source": [
    "#Checking if Rental data has been loaded into the database\n",
    "df = pd.read_sql_query('select * from rental_info where bathroom<=bhk+1', con=engine)\n",
    "df.head()"
   ]
  },
  {
   "cell_type": "code",
   "execution_count": 4,
   "id": "3f91e774",
   "metadata": {},
   "outputs": [],
   "source": [
    "# create funcion to process different models and data\n",
    "\n",
    "def test_model(model, data):\n",
    "    X_train_scaled, X_test_scaled, y_train, y_test = data\n",
    "    reg = model.fit(X_train_scaled, y_train)\n",
    "    print(f'Model: {type(reg).__name__}')\n",
    "    print(f'Train score: {reg.score(X_train_scaled, y_train)}')\n",
    "    print(f'Test Score: {reg.score(X_test_scaled, y_test)}\\n')\n",
    "    plt.show()    "
   ]
  },
  {
   "cell_type": "code",
   "execution_count": 5,
   "id": "c9956ff7",
   "metadata": {},
   "outputs": [],
   "source": [
    "# Define the X (features) and y (target) sets\n",
    "\n",
    "X = df.drop(['rent','suburb','floor_level', 'id'], axis=1)\n",
    "y = df.rent"
   ]
  },
  {
   "cell_type": "code",
   "execution_count": 6,
   "id": "0d59555e",
   "metadata": {},
   "outputs": [],
   "source": [
    "# Encode labels in object columns \n",
    "\n",
    "X['posted_on']= label_encoder.fit_transform(X['posted_on'])\n",
    "posted_on_name_mapping = dict(zip(label_encoder.classes_, label_encoder.transform(label_encoder.classes_)))\n",
    "\n",
    "X['area_type']= label_encoder.fit_transform(X['area_type'])\n",
    "area_type_name_mapping = dict(zip(label_encoder.classes_, label_encoder.transform(label_encoder.classes_)))\n",
    "\n",
    "X['city']= label_encoder.fit_transform(X['city'])\n",
    "city_name_mapping = dict(zip(label_encoder.classes_, label_encoder.transform(label_encoder.classes_)))\n",
    "\n",
    "X['furnishing_status']= label_encoder.fit_transform(X['furnishing_status'])\n",
    "furnishing_status_name_mapping = dict(zip(label_encoder.classes_, label_encoder.transform(label_encoder.classes_)))\n",
    "\n",
    "X['tenant_preferred']= label_encoder.fit_transform(X['tenant_preferred'])\n",
    "tenant_preferred_name_mapping = dict(zip(label_encoder.classes_, label_encoder.transform(label_encoder.classes_)))\n",
    "\n",
    "X['point_of_contact']= label_encoder.fit_transform(X['point_of_contact'])\n",
    "point_of_contact_name_mapping = dict(zip(label_encoder.classes_, label_encoder.transform(label_encoder.classes_)))"
   ]
  },
  {
   "cell_type": "code",
   "execution_count": 7,
   "id": "2c2f3d1a",
   "metadata": {},
   "outputs": [
    {
     "data": {
      "text/html": [
       "<div>\n",
       "<style scoped>\n",
       "    .dataframe tbody tr th:only-of-type {\n",
       "        vertical-align: middle;\n",
       "    }\n",
       "\n",
       "    .dataframe tbody tr th {\n",
       "        vertical-align: top;\n",
       "    }\n",
       "\n",
       "    .dataframe thead th {\n",
       "        text-align: right;\n",
       "    }\n",
       "</style>\n",
       "<table border=\"1\" class=\"dataframe\">\n",
       "  <thead>\n",
       "    <tr style=\"text-align: right;\">\n",
       "      <th></th>\n",
       "      <th>posted_on</th>\n",
       "      <th>bhk</th>\n",
       "      <th>size</th>\n",
       "      <th>area_type</th>\n",
       "      <th>city</th>\n",
       "      <th>furnishing_status</th>\n",
       "      <th>tenant_preferred</th>\n",
       "      <th>bathroom</th>\n",
       "      <th>point_of_contact</th>\n",
       "    </tr>\n",
       "  </thead>\n",
       "  <tbody>\n",
       "    <tr>\n",
       "      <th>0</th>\n",
       "      <td>3</td>\n",
       "      <td>2</td>\n",
       "      <td>1100</td>\n",
       "      <td>2</td>\n",
       "      <td>4</td>\n",
       "      <td>2</td>\n",
       "      <td>1</td>\n",
       "      <td>2</td>\n",
       "      <td>2</td>\n",
       "    </tr>\n",
       "    <tr>\n",
       "      <th>1</th>\n",
       "      <td>3</td>\n",
       "      <td>2</td>\n",
       "      <td>800</td>\n",
       "      <td>2</td>\n",
       "      <td>4</td>\n",
       "      <td>1</td>\n",
       "      <td>1</td>\n",
       "      <td>1</td>\n",
       "      <td>2</td>\n",
       "    </tr>\n",
       "    <tr>\n",
       "      <th>2</th>\n",
       "      <td>3</td>\n",
       "      <td>2</td>\n",
       "      <td>1000</td>\n",
       "      <td>2</td>\n",
       "      <td>4</td>\n",
       "      <td>1</td>\n",
       "      <td>1</td>\n",
       "      <td>1</td>\n",
       "      <td>2</td>\n",
       "    </tr>\n",
       "    <tr>\n",
       "      <th>3</th>\n",
       "      <td>1</td>\n",
       "      <td>2</td>\n",
       "      <td>800</td>\n",
       "      <td>2</td>\n",
       "      <td>4</td>\n",
       "      <td>2</td>\n",
       "      <td>1</td>\n",
       "      <td>1</td>\n",
       "      <td>2</td>\n",
       "    </tr>\n",
       "    <tr>\n",
       "      <th>4</th>\n",
       "      <td>0</td>\n",
       "      <td>2</td>\n",
       "      <td>600</td>\n",
       "      <td>2</td>\n",
       "      <td>4</td>\n",
       "      <td>2</td>\n",
       "      <td>1</td>\n",
       "      <td>2</td>\n",
       "      <td>2</td>\n",
       "    </tr>\n",
       "  </tbody>\n",
       "</table>\n",
       "</div>"
      ],
      "text/plain": [
       "   posted_on  bhk  size  area_type  city  furnishing_status  tenant_preferred  \\\n",
       "0          3    2  1100          2     4                  2                 1   \n",
       "1          3    2   800          2     4                  1                 1   \n",
       "2          3    2  1000          2     4                  1                 1   \n",
       "3          1    2   800          2     4                  2                 1   \n",
       "4          0    2   600          2     4                  2                 1   \n",
       "\n",
       "   bathroom  point_of_contact  \n",
       "0         2                 2  \n",
       "1         1                 2  \n",
       "2         1                 2  \n",
       "3         1                 2  \n",
       "4         2                 2  "
      ]
     },
     "execution_count": 7,
     "metadata": {},
     "output_type": "execute_result"
    }
   ],
   "source": [
    "# Display X\n",
    "X.head()"
   ]
  },
  {
   "cell_type": "code",
   "execution_count": 8,
   "id": "3ca1c282",
   "metadata": {},
   "outputs": [],
   "source": [
    "# Split data into test and training\n",
    "X_train, X_test, y_train, y_test = train_test_split(X, y, random_state=1)\n",
    "\n",
    "# Using standard scaler we scale and fit to the X_train\n",
    "scaler = StandardScaler().fit(X_train)\n",
    "\n",
    "# using scaler create \n",
    "X_train_scaled = scaler.transform(X_train)\n",
    "X_test_scaled = scaler.transform(X_test)\n",
    "\n",
    "# created varaible 'data' to hold x and y training and testing data\n",
    "data = [X_train_scaled, X_test_scaled, y_train, y_test]"
   ]
  },
  {
   "cell_type": "code",
   "execution_count": 9,
   "id": "28287913",
   "metadata": {},
   "outputs": [
    {
     "data": {
      "text/plain": [
       "((2710, 9), (904, 9))"
      ]
     },
     "execution_count": 9,
     "metadata": {},
     "output_type": "execute_result"
    }
   ],
   "source": [
    "#Display shape\n",
    "\n",
    "X_train.shape, X_test.shape"
   ]
  },
  {
   "cell_type": "code",
   "execution_count": 10,
   "id": "881daf4e",
   "metadata": {},
   "outputs": [
    {
     "data": {
      "text/plain": [
       "array([[-0.06244293, -1.32281518, -0.6923144 , ..., -1.76962839,\n",
       "         0.04698461, -1.41313797],\n",
       "       [-1.21360165,  1.09691424,  1.17631   , ...,  0.16646081,\n",
       "         1.2259504 , -1.41313797],\n",
       "       [-0.06244293, -0.11295047, -0.12360262, ...,  0.16646081,\n",
       "        -1.13198117,  0.70793868],\n",
       "       ...,\n",
       "       [-0.06244293, -1.32281518, -0.6923144 , ...,  0.16646081,\n",
       "        -1.13198117,  0.70793868],\n",
       "       [-0.06244293, -1.32281518, -1.09853709, ..., -1.76962839,\n",
       "        -1.13198117, -1.41313797],\n",
       "       [-0.06244293, -1.32281518, -0.77355894, ...,  0.16646081,\n",
       "        -1.13198117,  0.70793868]])"
      ]
     },
     "execution_count": 10,
     "metadata": {},
     "output_type": "execute_result"
    }
   ],
   "source": [
    "# Display X_train_scaled array\n",
    "\n",
    "X_train_scaled"
   ]
  },
  {
   "cell_type": "code",
   "execution_count": 11,
   "id": "1fb4c355",
   "metadata": {},
   "outputs": [
    {
     "name": "stdout",
     "output_type": "stream",
     "text": [
      "Model: LinearRegression\n",
      "Train score: 0.2129697748381839\n",
      "Test Score: 0.45730170270617154\n",
      "\n",
      "Model: KNeighborsRegressor\n",
      "Train score: 0.40966046678950496\n",
      "Test Score: 0.6326564969276245\n",
      "\n",
      "Model: RandomForestRegressor\n",
      "Train score: 0.8419179456834998\n",
      "Test Score: 0.573405141975457\n",
      "\n",
      "Model: ExtraTreesRegressor\n",
      "Train score: 0.9982249460046339\n",
      "Test Score: -0.06522656865088194\n",
      "\n",
      "Model: AdaBoostRegressor\n",
      "Train score: 0.817359420279339\n",
      "Test Score: 0.5914317693042934\n",
      "\n",
      "Model: SVR\n",
      "Train score: -0.043539967464448104\n",
      "Test Score: -0.09437898207837647\n",
      "\n"
     ]
    }
   ],
   "source": [
    "# Run several models through the test_model function for a quick analysis\n",
    "\n",
    "test_model(LinearRegression(), data)\n",
    "test_model(KNeighborsRegressor(), data)\n",
    "test_model(RandomForestRegressor(), data)\n",
    "test_model(ExtraTreesRegressor(), data)\n",
    "test_model(AdaBoostRegressor(), data)\n",
    "test_model(SVR(C=1.0, epsilon=0.2), data)"
   ]
  },
  {
   "cell_type": "markdown",
   "id": "34fa0e52",
   "metadata": {},
   "source": [
    "From the results above RandomForestRegressor, AdaBoostRegressor and ExtraTresregessor have good training scores. Upon reviewing the test scores for each it appears that ExtraTreesRegressor is overfitting to the training data which is resulting in a testing score of -0.047. We will continue forward with RandomForestRegressor and AdaBoostRegressor hyperparameter tuning."
   ]
  },
  {
   "cell_type": "markdown",
   "id": "832cab8d",
   "metadata": {},
   "source": [
    "### RandomForestRegressor hyperparameter tuning"
   ]
  },
  {
   "cell_type": "code",
   "execution_count": 12,
   "id": "d880d3ca",
   "metadata": {},
   "outputs": [],
   "source": [
    "# Number of trees in random forest\n",
    "n_estimators = [int(x) for x in np.linspace(start = 10, stop = 300, num = 10)]\n",
    "\n",
    "# Number of features to consider at every split\n",
    "max_features = ['auto', 'sqrt']\n",
    "\n",
    "# Maximum number of levels in tree\n",
    "max_depth = [10,20,30,40,50]\n",
    "\n",
    "# Minimum number of samples required to split a node\n",
    "min_samples_split = [2, 5]\n",
    "\n",
    "# Minimum number of samples required at each leaf node\n",
    "min_samples_leaf = [1, 2, 3, 4, 5]\n",
    "\n",
    "# Method of selecting samples for training each tree\n",
    "bootstrap = [True, False]"
   ]
  },
  {
   "cell_type": "code",
   "execution_count": 13,
   "id": "73faea40",
   "metadata": {},
   "outputs": [
    {
     "name": "stdout",
     "output_type": "stream",
     "text": [
      "{'n_estimators': [10, 42, 74, 106, 138, 171, 203, 235, 267, 300], 'max_features': ['auto', 'sqrt'], 'max_depth': [10, 20, 30, 40, 50], 'min_samples_split': [2, 5], 'min_samples_leaf': [1, 2, 3, 4, 5], 'bootstrap': [True, False]}\n"
     ]
    }
   ],
   "source": [
    "# Create the param grid\n",
    "param_grid = {'n_estimators': n_estimators,\n",
    "               'max_features': max_features,\n",
    "               'max_depth': max_depth,\n",
    "               'min_samples_split': min_samples_split,\n",
    "               'min_samples_leaf': min_samples_leaf,\n",
    "               'bootstrap': bootstrap}\n",
    "print(param_grid)"
   ]
  },
  {
   "cell_type": "code",
   "execution_count": 14,
   "id": "ad30122a",
   "metadata": {},
   "outputs": [],
   "source": [
    "# Import the model\n",
    "model = RandomForestRegressor()"
   ]
  },
  {
   "cell_type": "code",
   "execution_count": 15,
   "id": "c9e3ae12",
   "metadata": {},
   "outputs": [],
   "source": [
    "rf_RandomGrid = RandomizedSearchCV(estimator = model, param_distributions = param_grid, cv = 10, verbose=2, n_jobs = 4, random_state=30)"
   ]
  },
  {
   "cell_type": "code",
   "execution_count": 16,
   "id": "de1ae266",
   "metadata": {},
   "outputs": [
    {
     "name": "stdout",
     "output_type": "stream",
     "text": [
      "Fitting 10 folds for each of 10 candidates, totalling 100 fits\n"
     ]
    },
    {
     "data": {
      "text/plain": [
       "RandomizedSearchCV(cv=10, estimator=RandomForestRegressor(), n_jobs=4,\n",
       "                   param_distributions={'bootstrap': [True, False],\n",
       "                                        'max_depth': [10, 20, 30, 40, 50],\n",
       "                                        'max_features': ['auto', 'sqrt'],\n",
       "                                        'min_samples_leaf': [1, 2, 3, 4, 5],\n",
       "                                        'min_samples_split': [2, 5],\n",
       "                                        'n_estimators': [10, 42, 74, 106, 138,\n",
       "                                                         171, 203, 235, 267,\n",
       "                                                         300]},\n",
       "                   random_state=30, verbose=2)"
      ]
     },
     "execution_count": 16,
     "metadata": {},
     "output_type": "execute_result"
    }
   ],
   "source": [
    "# Fit the model by using the Randomized search classifier.\n",
    "rf_RandomGrid.fit(X_train_scaled, y_train)"
   ]
  },
  {
   "cell_type": "code",
   "execution_count": 17,
   "id": "d574f8a8",
   "metadata": {},
   "outputs": [
    {
     "name": "stdout",
     "output_type": "stream",
     "text": [
      "{'n_estimators': 106, 'min_samples_split': 2, 'min_samples_leaf': 4, 'max_features': 'sqrt', 'max_depth': 40, 'bootstrap': True}\n"
     ]
    }
   ],
   "source": [
    "# Display the params with the best results\n",
    "print(rf_RandomGrid.best_params_)"
   ]
  },
  {
   "cell_type": "code",
   "execution_count": 18,
   "id": "406df898",
   "metadata": {},
   "outputs": [
    {
     "name": "stdout",
     "output_type": "stream",
     "text": [
      "Train Accuracy - : 0.481\n",
      "Test Accuracy - : 0.742\n"
     ]
    }
   ],
   "source": [
    "# Print accuracy scores\n",
    "print (f'Train Accuracy - : {rf_RandomGrid.score(X_train_scaled,y_train):.3f}')\n",
    "print (f'Test Accuracy - : {rf_RandomGrid.score(X_test_scaled,y_test):.3f}')"
   ]
  },
  {
   "cell_type": "markdown",
   "id": "d010f1d3",
   "metadata": {},
   "source": [
    "### AdaBoostRegressor hyperparameter tuning"
   ]
  },
  {
   "cell_type": "code",
   "execution_count": 19,
   "id": "a7c6bc84",
   "metadata": {},
   "outputs": [],
   "source": [
    "# Create the params\n",
    "params = {\n",
    "    'n_estimators': [2, 3, 4, 5, 6, 7, 8, 9, 10, 11, 12, 20],\n",
    "    'learning_rate': [(0.97 + x / 100) for x in range(0, 8)]\n",
    "}"
   ]
  },
  {
   "cell_type": "code",
   "execution_count": 20,
   "id": "1ce22063",
   "metadata": {},
   "outputs": [],
   "source": [
    "# Import the model\n",
    "ab_clf = AdaBoostRegressor(random_state=42)"
   ]
  },
  {
   "cell_type": "code",
   "execution_count": 21,
   "id": "c90f5636",
   "metadata": {},
   "outputs": [],
   "source": [
    "clf = GridSearchCV(ab_clf, params, cv = 10, verbose=2, n_jobs = 4)"
   ]
  },
  {
   "cell_type": "code",
   "execution_count": 22,
   "id": "6b15f3f4",
   "metadata": {},
   "outputs": [
    {
     "name": "stdout",
     "output_type": "stream",
     "text": [
      "Fitting 10 folds for each of 96 candidates, totalling 960 fits\n"
     ]
    },
    {
     "data": {
      "text/plain": [
       "GridSearchCV(cv=10, estimator=AdaBoostRegressor(random_state=42), n_jobs=4,\n",
       "             param_grid={'learning_rate': [0.97, 0.98, 0.99, 1.0, 1.01, 1.02,\n",
       "                                           1.03, 1.04],\n",
       "                         'n_estimators': [2, 3, 4, 5, 6, 7, 8, 9, 10, 11, 12,\n",
       "                                          20]},\n",
       "             verbose=2)"
      ]
     },
     "execution_count": 22,
     "metadata": {},
     "output_type": "execute_result"
    }
   ],
   "source": [
    "# Fit the model by using the Randomized search classifier.\n",
    "clf.fit(X_train_scaled, y_train)"
   ]
  },
  {
   "cell_type": "code",
   "execution_count": 23,
   "id": "df7f7765",
   "metadata": {},
   "outputs": [
    {
     "name": "stdout",
     "output_type": "stream",
     "text": [
      "{'learning_rate': 1.01, 'n_estimators': 3}\n"
     ]
    }
   ],
   "source": [
    "# Display the params with the best results\n",
    "print(clf.best_params_)"
   ]
  },
  {
   "cell_type": "code",
   "execution_count": 24,
   "id": "7807767a",
   "metadata": {},
   "outputs": [
    {
     "name": "stdout",
     "output_type": "stream",
     "text": [
      "Train Accuracy - : 0.551\n",
      "Test Accuracy - : 0.514\n"
     ]
    }
   ],
   "source": [
    "# Print accuracy scores\n",
    "print (f'Train Accuracy - : {clf.score(X_train_scaled,y_train):.3f}')\n",
    "print (f'Test Accuracy - : {clf.score(X_test_scaled,y_test):.3f}')"
   ]
  },
  {
   "cell_type": "markdown",
   "id": "860f203d",
   "metadata": {},
   "source": [
    "## Modelling with best params\n",
    "<hr>"
   ]
  },
  {
   "cell_type": "markdown",
   "id": "763337b2",
   "metadata": {},
   "source": [
    "### RandomForestRegressor\n",
    "<hr>"
   ]
  },
  {
   "cell_type": "code",
   "execution_count": 25,
   "id": "3a0448fd",
   "metadata": {},
   "outputs": [],
   "source": [
    "# Import the model\n",
    "rf_model = RandomForestRegressor(n_estimators= 42, min_samples_split= 2, min_samples_leaf= 3, max_features= 'sqrt', max_depth= 50, bootstrap= True)"
   ]
  },
  {
   "cell_type": "code",
   "execution_count": 26,
   "id": "a3421a81",
   "metadata": {},
   "outputs": [
    {
     "data": {
      "text/plain": [
       "RandomForestRegressor(max_depth=50, max_features='sqrt', min_samples_leaf=3,\n",
       "                      n_estimators=42)"
      ]
     },
     "execution_count": 26,
     "metadata": {},
     "output_type": "execute_result"
    }
   ],
   "source": [
    "# Fit the model to the training data\n",
    "rf_model.fit(X_train_scaled, y_train)"
   ]
  },
  {
   "cell_type": "code",
   "execution_count": 27,
   "id": "4b562208",
   "metadata": {},
   "outputs": [
    {
     "name": "stdout",
     "output_type": "stream",
     "text": [
      "Test Accuracy - : 0.736\n"
     ]
    }
   ],
   "source": [
    "# Display the model score using the testing data\n",
    "print (f'Test Accuracy - : {rf_model.score(X_test_scaled,y_test):.3f}')"
   ]
  },
  {
   "cell_type": "markdown",
   "id": "7e133f16",
   "metadata": {},
   "source": [
    "### AdaBoostRegressor\n",
    "<hr>"
   ]
  },
  {
   "cell_type": "code",
   "execution_count": 28,
   "id": "7e192d2d",
   "metadata": {},
   "outputs": [],
   "source": [
    "ada_model = AdaBoostRegressor(learning_rate=1.01, n_estimators=3, random_state=42)"
   ]
  },
  {
   "cell_type": "code",
   "execution_count": 29,
   "id": "93e9087b",
   "metadata": {},
   "outputs": [
    {
     "data": {
      "text/plain": [
       "AdaBoostRegressor(learning_rate=1.01, n_estimators=3, random_state=42)"
      ]
     },
     "execution_count": 29,
     "metadata": {},
     "output_type": "execute_result"
    }
   ],
   "source": [
    "# Fit the model to the training data\n",
    "ada_model.fit(X_train_scaled, y_train)"
   ]
  },
  {
   "cell_type": "code",
   "execution_count": 30,
   "id": "403bbb43",
   "metadata": {},
   "outputs": [
    {
     "name": "stdout",
     "output_type": "stream",
     "text": [
      "Test Accuracy - : 0.514\n"
     ]
    }
   ],
   "source": [
    "# Display the model score using the testing data\n",
    "print (f'Test Accuracy - : {ada_model.score(X_test_scaled,y_test):.3f}')"
   ]
  },
  {
   "cell_type": "markdown",
   "id": "c2368499",
   "metadata": {},
   "source": [
    "## Final observations\n",
    "While both RandomForestRegressor and AdaBoostRegressor models have good training figures, the RandomForestRegressor model has a higher testing accuracy score. While this may not be a strong/high accuracy, 0.71 accuracy is sufficeint for our case study. "
   ]
  },
  {
   "cell_type": "markdown",
   "id": "d706d367",
   "metadata": {},
   "source": [
    "## Saving Model and Scaler"
   ]
  },
  {
   "cell_type": "code",
   "execution_count": 31,
   "id": "659ace30",
   "metadata": {},
   "outputs": [],
   "source": [
    "import joblib"
   ]
  },
  {
   "cell_type": "code",
   "execution_count": 32,
   "id": "a7fff093",
   "metadata": {},
   "outputs": [
    {
     "data": {
      "text/plain": [
       "['model/point_of_contact_name_mapping.joblib']"
      ]
     },
     "execution_count": 32,
     "metadata": {},
     "output_type": "execute_result"
    }
   ],
   "source": [
    "# Save the model to a file\n",
    "\n",
    "joblib.dump(rf_model, 'model/rental_trained.joblib')\n",
    "joblib.dump(scaler, 'model/rental_scaler.joblib')\n",
    "\n",
    "# Save the encoder mapping for use in the .py file\n",
    "\n",
    "joblib.dump(posted_on_name_mapping, 'model/posted_on_name_mapping.joblib')\n",
    "joblib.dump(area_type_name_mapping, 'model/area_type_name_mapping.joblib')\n",
    "joblib.dump(city_name_mapping, 'model/city_name_mapping.joblib')\n",
    "joblib.dump(furnishing_status_name_mapping, 'model/furnishing_status_name_mapping.joblib')\n",
    "joblib.dump(tenant_preferred_name_mapping, 'model/tenant_preferred_name_mapping.joblib')\n",
    "joblib.dump(point_of_contact_name_mapping, 'model/point_of_contact_name_mapping.joblib')"
   ]
  },
  {
   "cell_type": "markdown",
   "id": "46e85a30",
   "metadata": {},
   "source": [
    "## Check Model Export is working"
   ]
  },
  {
   "cell_type": "code",
   "execution_count": 33,
   "id": "f6202b58",
   "metadata": {},
   "outputs": [],
   "source": [
    "# Load the model from a file\n",
    "model = joblib.load('model/rental_trained.joblib')"
   ]
  },
  {
   "cell_type": "code",
   "execution_count": 34,
   "id": "65540fea",
   "metadata": {},
   "outputs": [
    {
     "name": "stdout",
     "output_type": "stream",
     "text": [
      "Test Accuracy - : 0.736\n"
     ]
    }
   ],
   "source": [
    "# Display the model score using the testing data\n",
    "print (f'Test Accuracy - : {model.score(X_test_scaled,y_test):.3f}')"
   ]
  },
  {
   "cell_type": "markdown",
   "id": "317046e7",
   "metadata": {},
   "source": [
    "## Making a prediction with the model"
   ]
  },
  {
   "cell_type": "code",
   "execution_count": 35,
   "id": "65d88ee9",
   "metadata": {},
   "outputs": [],
   "source": [
    "# Grab just one data point to test with\n",
    "\n",
    "test = X_train[:1]\n",
    "test_result = y_train[:1]"
   ]
  },
  {
   "cell_type": "code",
   "execution_count": 36,
   "id": "dc19691b",
   "metadata": {},
   "outputs": [
    {
     "name": "stdout",
     "output_type": "stream",
     "text": [
      "Test data: [  2   1 550   1   5   2   0   2   0], Rental based on test data: 38000\n"
     ]
    }
   ],
   "source": [
    "# Display test data\n",
    "\n",
    "print(f\"Test data: {test.iloc[0].to_numpy()}, Rental based on test data: {int(test_result)}\")"
   ]
  },
  {
   "cell_type": "code",
   "execution_count": 37,
   "id": "3249b5ae",
   "metadata": {},
   "outputs": [
    {
     "data": {
      "text/plain": [
       "array([[-0.06244293, -1.32281518, -0.6923144 , -1.0679911 ,  1.51847303,\n",
       "         1.11338642, -1.76962839,  0.04698461, -1.41313797]])"
      ]
     },
     "execution_count": 37,
     "metadata": {},
     "output_type": "execute_result"
    }
   ],
   "source": [
    "# Scale data for predictions\n",
    "\n",
    "test_scaled = scaler.transform(test)\n",
    "test_scaled"
   ]
  },
  {
   "cell_type": "code",
   "execution_count": 38,
   "id": "3f7dff77",
   "metadata": {},
   "outputs": [
    {
     "name": "stdout",
     "output_type": "stream",
     "text": [
      "36888.52\n"
     ]
    }
   ],
   "source": [
    "# Predict and display pridiction\n",
    "\n",
    "prediction = model.predict(test_scaled).round(2)\n",
    "print(float(prediction))"
   ]
  },
  {
   "cell_type": "code",
   "execution_count": 39,
   "id": "165e3916",
   "metadata": {},
   "outputs": [
    {
     "name": "stdout",
     "output_type": "stream",
     "text": [
      "The pridicted rental, for the test property, is 36888.52 and the actual rental is 38000.0\n",
      "Which is a difference of 1111.48.\n"
     ]
    }
   ],
   "source": [
    "# Compare prediction vs actual\n",
    "\n",
    "print(f\"The pridicted rental, for the test property, is {float(prediction)} and the actual rental is {float(test_result)}\")\n",
    "print(f\"Which is a difference of {float((test_result-prediction).round(2))}.\")"
   ]
  },
  {
   "cell_type": "code",
   "execution_count": null,
   "id": "2182e631",
   "metadata": {},
   "outputs": [],
   "source": []
  }
 ],
 "metadata": {
  "kernelspec": {
   "display_name": "Python 3 (ipykernel)",
   "language": "python",
   "name": "python3"
  },
  "language_info": {
   "codemirror_mode": {
    "name": "ipython",
    "version": 3
   },
   "file_extension": ".py",
   "mimetype": "text/x-python",
   "name": "python",
   "nbconvert_exporter": "python",
   "pygments_lexer": "ipython3",
   "version": "3.9.12"
  }
 },
 "nbformat": 4,
 "nbformat_minor": 5
}
